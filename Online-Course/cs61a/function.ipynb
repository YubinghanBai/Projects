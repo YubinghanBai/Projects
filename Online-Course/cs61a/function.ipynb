{
 "cells": [
  {
   "cell_type": "markdown",
   "metadata": {},
   "source": [
    "## 1.可接受任意数量参数的函数"
   ]
  },
  {
   "cell_type": "code",
   "execution_count": null,
   "metadata": {},
   "outputs": [],
   "source": [
    "import html\n",
    "\n",
    "def make_element(name, value, **attrs):\n",
    "    keyvals = [' %s=\"%s\"' % item for item in attrs.items()]\n",
    "    #' %s=\"%s\"' % item ,使用 % 操作符来将变量或值插入字符串中\n",
    "    #假设item=(\"size\",\"large\")-->' size=\"large\"'\n",
    "    attr_str = ''.join(keyvals)\n",
    "    element = '<{name}{attrs}>{value}</{name}>'.format(\n",
    "                name=name,\n",
    "                attrs=attr_str,\n",
    "                value=html.escape(value)) #转义value中的特殊字符,保护内容不受HTML注入攻击的风险,以确保他们不会被解析成HTML标签\n",
    "    return element\n",
    "\n",
    "# Example\n",
    "# Creates '<item size=\"large\" quantity=\"6\">Albatross</item>'\n",
    "make_element('item', 'Albatross', size='large', quantity=6)\n",
    "\n",
    "# Creates '<p>&lt;spam&gt;</p>'\n",
    "make_element('p', '<spam>')"
   ]
  },
  {
   "cell_type": "markdown",
   "metadata": {},
   "source": [
    "## 2.只接受关键字参数的函数\n",
    "\n",
    "强制关键字参数\n",
    ".如果在参数列表中出现一个 *，之后的所有参数都必须使用关键字来传递"
   ]
  },
  {
   "cell_type": "code",
   "execution_count": null,
   "metadata": {},
   "outputs": [],
   "source": [
    "def minimum(*values, clip=None):\n",
    "    m = min(values)\n",
    "    if clip is not None:\n",
    "        m = clip if clip > m else m\n",
    "    return m\n",
    "\n",
    "minimum(1, 5, 2, -5, 10) # Returns -5\n",
    "minimum(1, 5, 2, -5, 10, clip=0) # Returns 0"
   ]
  },
  {
   "cell_type": "markdown",
   "metadata": {},
   "source": [
    "\n",
    "# 3. 给函数参数增加元信息(使用函数参数注解)"
   ]
  },
  {
   "cell_type": "code",
   "execution_count": null,
   "metadata": {},
   "outputs": [],
   "source": [
    "def add(x:int, y:int) -> int:\n",
    "    return x + y"
   ]
  },
  {
   "cell_type": "markdown",
   "metadata": {},
   "source": [
    "## 4.返回多个值的函数\n",
    "myFunc看似返回了多个值,实际上是先创建了一个元祖后返回的\n",
    "用逗号生成一个元组,而不是括号\n",
    "将结果赋值给多个变量--元组解包\n",
    "返回结果也可以赋值给单个变量--元组本身"
   ]
  },
  {
   "cell_type": "code",
   "execution_count": 3,
   "metadata": {},
   "outputs": [
    {
     "name": "stdout",
     "output_type": "stream",
     "text": [
      "3\n",
      "(1, 2, 3)\n"
     ]
    }
   ],
   "source": [
    "def myFunc():\n",
    "    return 1, 2, 3\n",
    "a,b,c=myFunc()\n",
    "a\n",
    "b\n",
    "print(c)\n",
    "\n",
    "x=myFunc()\n",
    "print(x)"
   ]
  },
  {
   "cell_type": "markdown",
   "metadata": {},
   "source": [
    "## 5.定义有默认参数的函数\n",
    "默认值放在参数列表最后\n",
    "如果默认参数是一个可修改的容器比如一个列表、集合或者字典，可以使用None作为默认值\n",
    "传递一个None值和不传值两种情况是有差别的\n",
    "默认参数的值应该是不可变对象，比如None，True，数字或字符串\n",
    "不能命名为[]，以免后续调用时修改函数默认值"
   ]
  },
  {
   "cell_type": "code",
   "execution_count": null,
   "metadata": {},
   "outputs": [],
   "source": [
    "#仅测试是否某个默认参数有值传进来\n",
    "_no_value=object()\n",
    "def spam(a,b=_no_value):\n",
    "    if b is _no_value:\n",
    "        print(\"No b value supplied\")\n",
    "\n",
    "#默认参数仅仅在函数定义时赋值一次\n",
    "x=42\n",
    "def spam(a,b=x):\n",
    "    print(a,b)\n",
    "spam(1)#1 42\n",
    "x=23 #Has no effect\n",
    "spam(1) #1 42\n"
   ]
  }
 ],
 "metadata": {
  "kernelspec": {
   "display_name": "venv",
   "language": "python",
   "name": "python3"
  },
  "language_info": {
   "codemirror_mode": {
    "name": "ipython",
    "version": 3
   },
   "file_extension": ".py",
   "mimetype": "text/x-python",
   "name": "python",
   "nbconvert_exporter": "python",
   "pygments_lexer": "ipython3",
   "version": "3.9.13"
  }
 },
 "nbformat": 4,
 "nbformat_minor": 2
}
