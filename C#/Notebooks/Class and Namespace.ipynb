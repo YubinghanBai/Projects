{
 "cells": [
  {
   "cell_type": "markdown",
   "metadata": {},
   "source": [
    "Creating instances of a class "
   ]
  },
  {
   "cell_type": "markdown",
   "metadata": {},
   "source": [
    "##Constructor\n",
    "Initialize object properties\n",
    "- Default constructor\n",
    "- Parameterized constructor\n",
    "- Copy constructor\n",
    "  - A copy constructor creates a new object as as copy of an existing object\n",
    "- Static constructor\n",
    "  - Initialize any static data or to perform a particular action that needs to be performed only once\n",
    "  - It is called automatically before the first instance is created "
   ]
  },
  {
   "cell_type": "code",
   "execution_count": null,
   "metadata": {
    "vscode": {
     "languageId": "polyglot-notebook"
    }
   },
   "outputs": [],
   "source": [
    "public class Person\n",
    "{\n",
    "    public string Name;\n",
    "    public int Age;\n",
    "\n",
    "    // Default constructor (no parameters)\n",
    "    public Person()\n",
    "    {\n",
    "        Name = \"Unknown\";\n",
    "        Age =0;\n",
    "    }\n",
    "    // parameterized constructor\n",
    "    public Person(string name, int age)\n",
    "    {\n",
    "        Name = name;\n",
    "        Age = age;\n",
    "    }\n",
    "    // copy constructor\n",
    "\n",
    "    public Person(Person person)\n",
    "    {\n",
    "        Name = person.Name;\n",
    "        Age = person.Age;\n",
    "    }\n",
    "    // static constructor\n",
    "    public void SayHello()\n",
    "    {\n",
    "        Console.WriteLine($\"Hello, my name is {Name} and I am {Age} years old.\");\n",
    "    }\n",
    "}\n",
    "\n",
    "// Create a new Person object with the specified name and age\n",
    "Person person1 = new Person(\"Jane Doe\", 28);\n",
    "person1.SayHello(); // Output: Hello, my name is Jane Doe and I am 28 years old."
   ]
  },
  {
   "cell_type": "markdown",
   "metadata": {},
   "source": [
    "Accessors\n",
    "- get accessors\n",
    "- set accessors"
   ]
  },
  {
   "cell_type": "code",
   "execution_count": null,
   "metadata": {
    "vscode": {
     "languageId": "polyglot-notebook"
    }
   },
   "outputs": [],
   "source": [
    "public class Person\n",
    "{\n",
    "    private string name;\n",
    "    public string Name{\n",
    "        get{return name;}\n",
    "        set\n",
    "        {\n",
    "            if(!string.IsNullOrEmpty(value))\n",
    "            {\n",
    "            name = value;\n",
    "            }\n",
    "        }\n",
    "    }\n",
    "}"
   ]
  }
 ],
 "metadata": {
  "kernelspec": {
   "display_name": ".NET (C#)",
   "language": "C#",
   "name": ".net-csharp"
  },
  "language_info": {
   "name": "python"
  },
  "polyglot_notebook": {
   "kernelInfo": {
    "defaultKernelName": "csharp",
    "items": [
     {
      "aliases": [],
      "name": "csharp"
     }
    ]
   }
  }
 },
 "nbformat": 4,
 "nbformat_minor": 2
}
